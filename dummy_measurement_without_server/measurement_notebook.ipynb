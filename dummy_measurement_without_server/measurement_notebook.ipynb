{
 "cells": [
  {
   "cell_type": "markdown",
   "metadata": {
    "Collapsed": "false"
   },
   "source": [
    "# README"
   ]
  },
  {
   "cell_type": "markdown",
   "metadata": {
    "Collapsed": "false"
   },
   "source": [
    "This is an example to illustrate how measurement notebooks could look like.\n",
    "Of course this is easy to convert to a script, if you prefer working with spyder, for example.\n",
    "\n",
    "Some things are not in a state yet that we're fully happy with, they're annotated correspondingly.\n",
    "\n",
    "**TODO:** the initialization could be in a separate script or notebook. That would be useful if multiple notebooks run measurements, for example."
   ]
  },
  {
   "cell_type": "markdown",
   "metadata": {
    "Collapsed": "false"
   },
   "source": [
    "# Initialization"
   ]
  },
  {
   "cell_type": "markdown",
   "metadata": {
    "Collapsed": "false"
   },
   "source": [
    "## Imports"
   ]
  },
  {
   "cell_type": "code",
   "execution_count": 1,
   "metadata": {
    "Collapsed": "false"
   },
   "outputs": [],
   "source": [
    "%gui qt\n",
    "%matplotlib inline"
   ]
  },
  {
   "cell_type": "code",
   "execution_count": 16,
   "metadata": {
    "Collapsed": "false"
   },
   "outputs": [],
   "source": [
    "from pprint import pprint\n",
    "\n",
    "import numpy as np\n",
    "from matplotlib import pyplot as plt\n",
    "import h5py\n",
    "\n",
    "\n",
    "from qcodes import Instrument, Station, find_or_create_instrument\n",
    "from plottr.data import datadict_storage as dds, datadict as dd"
   ]
  },
  {
   "cell_type": "markdown",
   "metadata": {
    "Collapsed": "false"
   },
   "source": [
    "## Configuration"
   ]
  },
  {
   "cell_type": "code",
   "execution_count": 3,
   "metadata": {
    "Collapsed": "false"
   },
   "outputs": [],
   "source": [
    "DATADIR = './data/'"
   ]
  },
  {
   "cell_type": "code",
   "execution_count": null,
   "metadata": {
    "Collapsed": "false"
   },
   "outputs": [],
   "source": []
  },
  {
   "cell_type": "markdown",
   "metadata": {
    "Collapsed": "false"
   },
   "source": [
    "## Create instruments"
   ]
  },
  {
   "cell_type": "markdown",
   "metadata": {
    "Collapsed": "false"
   },
   "source": [
    "**TODO:** here we would prefer getting the instruments from the server."
   ]
  },
  {
   "cell_type": "code",
   "execution_count": 4,
   "metadata": {
    "Collapsed": "false"
   },
   "outputs": [],
   "source": [
    "# Create a new station, close all previous instruments\n",
    "Instrument.close_all()\n",
    "station = Station()"
   ]
  },
  {
   "cell_type": "code",
   "execution_count": 5,
   "metadata": {
    "Collapsed": "false"
   },
   "outputs": [],
   "source": [
    "from instrumentserver.testing.dummy_instruments.rf import ResonatorResponse\n",
    "vna = find_or_create_instrument(ResonatorResponse, 'vna')\n",
    "station.add_component(vna)\n",
    "\n",
    "vna.resonator_frequency(5e9)\n",
    "vna.resonator_linewidth(10e6)"
   ]
  },
  {
   "cell_type": "code",
   "execution_count": 6,
   "metadata": {
    "Collapsed": "false"
   },
   "outputs": [
    {
     "data": {
      "text/plain": [
       "'flux'"
      ]
     },
     "execution_count": 6,
     "metadata": {},
     "output_type": "execute_result"
    }
   ],
   "source": [
    "from instrumentserver.testing.dummy_instruments.rf import FluxControl\n",
    "flux = find_or_create_instrument(FluxControl, 'flux', vna)\n",
    "station.add_component(flux)"
   ]
  },
  {
   "cell_type": "markdown",
   "metadata": {
    "Collapsed": "false"
   },
   "source": [
    "# Flux-dependent resonator measurement"
   ]
  },
  {
   "cell_type": "markdown",
   "metadata": {
    "Collapsed": "false"
   },
   "source": [
    "## Testing"
   ]
  },
  {
   "cell_type": "code",
   "execution_count": 7,
   "metadata": {
    "Collapsed": "false"
   },
   "outputs": [
    {
     "data": {
      "text/plain": [
       "[<matplotlib.lines.Line2D at 0x7f037bf75d10>]"
      ]
     },
     "execution_count": 7,
     "metadata": {},
     "output_type": "execute_result"
    },
    {
     "data": {
      "image/png": "[encoded data removed]",
      "text/plain": [
       "<Figure size 432x288 with 1 Axes>"
      ]
     },
     "metadata": {
      "needs_background": "light"
     },
     "output_type": "display_data"
    }
   ],
   "source": [
    "# just acquire a trace and plot. The resonance frequency should change when changing the flux.\n",
    "vna.start_frequency(4e9)\n",
    "vna.stop_frequency(5.2e9)\n",
    "vna.npoints(1201)\n",
    "vna.bandwidth(1e3)\n",
    "vna.power(-50)\n",
    "flux.flux(-0.25)\n",
    "\n",
    "f_vals = vna.frequency()\n",
    "s11_vals = vna.data()\n",
    "\n",
    "fig, ax = plt.subplots(1, 1)\n",
    "ax.plot(f_vals, np.angle(s11_vals))"
   ]
  },
  {
   "cell_type": "markdown",
   "metadata": {
    "Collapsed": "false"
   },
   "source": [
    "## Measurement"
   ]
  },
  {
   "cell_type": "markdown",
   "metadata": {
    "Collapsed": "false"
   },
   "source": [
    "**TODO:** This is using the bare file writer. Some things, like setting up the data structure will be made easier, but the new measurement structures are will work in progress.\n",
    "\n",
    "**TODO:** This isn't saving meta data yet, or copying additional files. An easy way to circumvent that for the time being is by inheriting from the DDH5 writer."
   ]
  },
  {
   "cell_type": "code",
   "execution_count": 24,
   "metadata": {
    "Collapsed": "false"
   },
   "outputs": [
    {
     "name": "stdout",
     "output_type": "stream",
     "text": [
      "Data location:  ./data/2020-05-21/2020-05-21_0004_FluxSweep/2020-05-21_0004_FluxSweep.ddh5\n"
     ]
    }
   ],
   "source": [
    "# this is defining the data structure.\n",
    "data = dd.DataDict(\n",
    "    flux = dict(unit='Phi0'),\n",
    "    frequency = dict(unit='Hz'),\n",
    "    s11 = dict(axes=['flux', 'frequency']), # no unit, complex.\n",
    ")\n",
    "data.validate() # this is just for catching mistakes.\n",
    "\n",
    "with dds.DDH5Writer(DATADIR, data, name='FluxSweep') as writer:\n",
    "    for flux_val in np.linspace(-1,1,101):\n",
    "        flux.flux(flux_val)\n",
    "        \n",
    "        # the writer accepts one line for each data field.\n",
    "        # that means we should reshape the data that each entry has the form [<data>].\n",
    "        # for practical purposes that means that each frequency and s11 data array\n",
    "        # is like one datapoint.\n",
    "        writer.add_data(\n",
    "            flux = [flux_val],\n",
    "            frequency = vna.frequency().reshape(1,-1),\n",
    "            s11 = vna.data().reshape(1,-1),\n",
    "        )"
   ]
  },
  {
   "cell_type": "markdown",
   "metadata": {
    "Collapsed": "false"
   },
   "source": [
    "### Inspecting the data\n",
    "\n",
    "This is just to illustrate how to open and look at the data. You often would not actually do that in the measurement notebook.\n",
    "\n",
    "Note that the data is currently also in the memory. **TODO**: an operation mode for not keeping the data in the memory is not implemented yet.\n",
    "\n",
    "To illustrate, we look at the data in the memory, and compare with the file."
   ]
  },
  {
   "cell_type": "code",
   "execution_count": 31,
   "metadata": {
    "Collapsed": "false"
   },
   "outputs": [
    {
     "name": "stdout",
     "output_type": "stream",
     "text": [
      "{'flux': {'axes': [], 'unit': 'Phi0'},\n",
      " 'frequency': {'axes': [], 'unit': 'Hz'},\n",
      " 's11': {'axes': ['flux', 'frequency'], 'unit': ''}}\n",
      "{'flux': (101,), 'frequency': (101, 1201), 's11': (101, 1201)}\n",
      "{'flux': {'axes': [], 'unit': 'Phi0'},\n",
      " 'frequency': {'axes': [], 'unit': 'Hz'},\n",
      " 's11': {'axes': ['flux', 'frequency'], 'unit': ''}}\n",
      "{'flux': (101, 1201), 'frequency': (101, 1201), 's11': (101, 1201)}\n"
     ]
    },
    {
     "data": {
      "text/plain": [
       "Text(0, 0.5, 'Frequency (Hz)')"
      ]
     },
     "execution_count": 31,
     "metadata": {},
     "output_type": "execute_result"
    },
    {
     "data": {
      "image/png": "[encoded data removed]",
      "text/plain": [
       "<Figure size 432x288 with 1 Axes>"
      ]
     },
     "metadata": {
      "needs_background": "light"
     },
     "output_type": "display_data"
    }
   ],
   "source": [
    "# when we look at the data now, we see it's not on a grid, even though we want the data to be.\n",
    "pprint(data.structure())\n",
    "pprint(data.shapes())\n",
    "\n",
    "# this is detecting the grid in the data\n",
    "data_as_grid = dd.datadict_to_meshgrid(data)\n",
    "pprint(data_as_grid.structure())\n",
    "pprint(data_as_grid.shapes())\n",
    "\n",
    "flux_data = data_as_grid.data_vals('flux')\n",
    "frq_data = data_as_grid.data_vals('frequency')\n",
    "s11_data = data_as_grid.data_vals('s11')\n",
    "\n",
    "fig, ax = plt.subplots(1, 1)\n",
    "\n",
    "ax.imshow(\n",
    "    np.angle(s11_data.T), \n",
    "    aspect='auto', origin='lower',\n",
    "    extent=[flux_data.min(), flux_data.max(), frq_data.min(), frq_data.max()]\n",
    ")\n",
    "ax.set_xlabel('Flux (phi_0)')\n",
    "ax.set_ylabel('Frequency (Hz)')"
   ]
  },
  {
   "cell_type": "code",
   "execution_count": 32,
   "metadata": {
    "Collapsed": "false"
   },
   "outputs": [
    {
     "data": {
      "text/plain": [
       "Text(0, 0.5, 'Frequency (Hz)')"
      ]
     },
     "execution_count": 32,
     "metadata": {},
     "output_type": "execute_result"
    },
    {
     "data": {
      "image/png": "[encoded data removed]",
      "text/plain": [
       "<Figure size 432x288 with 1 Axes>"
      ]
     },
     "metadata": {
      "needs_background": "light"
     },
     "output_type": "display_data"
    }
   ],
   "source": [
    "# Loading from file is essentiall the same thing:\n",
    "data_from_file = dds.datadict_from_hdf5(writer.file_path)\n",
    "data_as_grid = dd.datadict_to_meshgrid(data_from_file)\n",
    "\n",
    "flux_data = data_as_grid.data_vals('flux')\n",
    "frq_data = data_as_grid.data_vals('frequency')\n",
    "s11_data = data_as_grid.data_vals('s11')\n",
    "\n",
    "fig, ax = plt.subplots(1, 1)\n",
    "\n",
    "ax.imshow(\n",
    "    np.angle(s11_data.T), \n",
    "    aspect='auto', origin='lower',\n",
    "    extent=[flux_data.min(), flux_data.max(), frq_data.min(), frq_data.max()]\n",
    ")\n",
    "ax.set_xlabel('Flux (phi_0)')\n",
    "ax.set_ylabel('Frequency (Hz)')"
   ]
  },
  {
   "cell_type": "code",
   "execution_count": null,
   "metadata": {
    "Collapsed": "false"
   },
   "outputs": [],
   "source": []
  },
  {
   "cell_type": "code",
   "execution_count": null,
   "metadata": {
    "Collapsed": "false"
   },
   "outputs": [],
   "source": []
  },
  {
   "cell_type": "code",
   "execution_count": null,
   "metadata": {
    "Collapsed": "false"
   },
   "outputs": [],
   "source": []
  }
 ],
 "metadata": {
  "kernelspec": {
   "display_name": "Python [conda env:qcodes]",
   "language": "python",
   "name": "conda-env-qcodes-py"
  },
  "language_info": {
   "codemirror_mode": {
    "name": "ipython",
    "version": 3
   },
   "file_extension": ".py",
   "mimetype": "text/x-python",
   "name": "python",
   "nbconvert_exporter": "python",
   "pygments_lexer": "ipython3",
   "version": "3.7.5"
  }
 },
 "nbformat": 4,
 "nbformat_minor": 4
}
