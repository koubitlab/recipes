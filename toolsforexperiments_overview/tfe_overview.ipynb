{
 "cells": [
  {
   "cell_type": "code",
   "execution_count": null,
   "metadata": {},
   "outputs": [],
   "source": []
  },
  {
   "cell_type": "markdown",
   "metadata": {},
   "source": [
    "# Introduction"
   ]
  },
  {
   "cell_type": "markdown",
   "metadata": {},
   "source": [
    "- Assumptions: \n",
    "  - know qcodes basics"
   ]
  },
  {
   "cell_type": "markdown",
   "metadata": {},
   "source": [
    "# The instrument server"
   ]
  },
  {
   "cell_type": "markdown",
   "metadata": {},
   "source": [
    "The role of the instrument server is to manage access to instruments (both real and virtual), so they can be used from multiple processes. \n",
    "It's not strictly necessary to use it, and its designed such that using instruments through the server can be used also to talk to instruments that are instantiated directly.\n",
    "\n",
    "Start the instrumentserver from the commandline (in an env't that has qcodes and the instrumentserver package installed) in a directory that will be the working directory for the server.\n",
    "\n",
    "```bash\n",
    "    $ instrumentserver --gui True\n",
    "```\n",
    "\n",
    "Because no instruments are instantiated at this point, we get an empty window reflecting the blank qcodes station living inside the server.\n",
    "We can already create a client in this notebook that connects to the instrumentserver:"
   ]
  },
  {
   "cell_type": "code",
   "execution_count": 1,
   "metadata": {},
   "outputs": [],
   "source": [
    "from instrumentserver.client import Client as InstrumentClient\n",
    "cli = InstrumentClient() # connect to default host (localhost) and default port (5555)"
   ]
  },
  {
   "cell_type": "markdown",
   "metadata": {},
   "source": [
    "We will now see how we can make use of the fact that we can talk to the instrumentserver from multiple processes. \n",
    "We'll create a virtual instrument (something with no direct counterpart on the hardware side) that allows us to manage arbitrary experiment parameters that we can access across the setup (a fancy way to keep track of important variables). After that, we'll set up some dummy instruments and perform some fake data acquisition with them."
   ]
  },
  {
   "cell_type": "markdown",
   "metadata": {},
   "source": [
    "## Parameter manager\n",
    "\n",
    "We'll first launch the *parameter manager*. Because it has a dedicated GUI we run it as a standalone program. \n",
    "From a command line prompt we can launch the example script that's located in the folder of this manual (again, make sure to do this within an env't that has the instrumentserver package installed):\n",
    "\n",
    "```bash\n",
    "    $ python run_parameter_manager.py\n",
    "```\n",
    "\n",
    "We'll simply get an empty window now.\n",
    "The bottom of the window allows us to add arbitrary parameters and values, where dots serve as hierarchy separators (like objects and their children in python).\n",
    "Let's add a few parameters, let's say `qubit.frequency`, `qubit.pipulse.len`, `qubit.pipulse.amp` and give them some arbitrary values.\n",
    "We'll see something like this:\n",
    "\n",
    "![Parameter manager window](figures/parammgr.png)\n",
    "\n",
    "Because parameters live in the instrumentserver we can access the values here by creating a 'Proxy' instrument that forwards all requests to the 'real' instrument."
   ]
  },
  {
   "cell_type": "code",
   "execution_count": 2,
   "metadata": {},
   "outputs": [
    {
     "data": {
      "text/plain": [
       "40"
      ]
     },
     "execution_count": 2,
     "metadata": {},
     "output_type": "execute_result"
    }
   ],
   "source": [
    "params = cli.get_instrument('params') # 'params' is the name the startup script gave the instrument\n",
    "\n",
    "# simply output the value of the pi pulse length:\n",
    "params.qubit.pipulse.len()"
   ]
  },
  {
   "cell_type": "markdown",
   "metadata": {},
   "source": [
    "**A note on synchronization of available instrument parameters between clients** \n",
    "\n",
    "Currently, automatic synchronization of registered parameters (and GUI-displayed values of parameters) is an outstanding feature. (This will be implemented soon.)\n",
    "\n",
    "*It is, however, important to stress that the actual value of any parameter is stored in the server. That means that calling a parameter to get its value or to set it always results in the correct outcome.*\n",
    "\n",
    "After we change values in the parameter manager from our interactive notebook (or a console), we need to manually refresh the GUI to make those visible:"
   ]
  },
  {
   "cell_type": "code",
   "execution_count": 3,
   "metadata": {},
   "outputs": [],
   "source": [
    "# after executing, go to the GUI and press the refresh icon in the upper left to see the change.\n",
    "params.qubit.pipulse.len(100)"
   ]
  },
  {
   "cell_type": "markdown",
   "metadata": {},
   "source": [
    "The same goes for adding new parameters after all clients are connected.\n",
    "We can add new parameters very easily from any client, but to make them visible we need to refresh the other clients:"
   ]
  },
  {
   "cell_type": "code",
   "execution_count": 4,
   "metadata": {},
   "outputs": [],
   "source": [
    "# this will only be available in the GUI after pressing the refresh button.\n",
    "params.add_parameter('qubit.anharmonicity', initial_value=-150.0, unit='MHz') #buglist, updating the GUI before the next cell crashes the GUI"
   ]
  },
  {
   "cell_type": "markdown",
   "metadata": {},
   "source": [
    "Conversely, if we add a parameter in the instrument GUI (let's say: `resonator.frequency`), we need to update the other clients (like the one in our notebook) before being able to access it:"
   ]
  },
  {
   "cell_type": "code",
   "execution_count": 9,
   "metadata": {},
   "outputs": [
    {
     "data": {
      "text/plain": [
       "5.6"
      ]
     },
     "execution_count": 9,
     "metadata": {},
     "output_type": "execute_result"
    }
   ],
   "source": [
    "# our proxy instrument does not yet know that the parameter exist right after creating it in the GUI.\n",
    "# Only the proxy instrument of the GUI, as well as the instrumentserver, have that information at this moment.\n",
    "params.resonator.frequency()"
   ]
  },
  {
   "cell_type": "markdown",
   "metadata": {},
   "source": [
    "To sync a local client, we can call it's `update` method:"
   ]
  },
  {
   "cell_type": "code",
   "execution_count": 8,
   "metadata": {},
   "outputs": [
    {
     "data": {
      "text/plain": [
       "5.6"
      ]
     },
     "execution_count": 8,
     "metadata": {},
     "output_type": "execute_result"
    }
   ],
   "source": [
    "params.update()\n",
    "params.resonator.frequency()"
   ]
  },
  {
   "cell_type": "markdown",
   "metadata": {},
   "source": [
    "## Adding instruments to the server"
   ]
  },
  {
   "cell_type": "markdown",
   "metadata": {},
   "source": [
    "When using 'vanilla' qcodes, we would simply create a qcodes station in our working kernel, then add instruments by instantiating the corresponding driver classes.\n",
    "When using the instrumentserver to manage our instrument instances, we instead want to instantiate inside the station that the server runs.\n",
    "\n",
    "As an example, we will add a dummy instrument that behaves like a vector network analyzer and simulates a resonator response.\n",
    "Only the server will instantiate it, so instead of importing the driver, we pass the import path (of course, needs to be known in the environment that the server is running in)."
   ]
  },
  {
   "cell_type": "code",
   "execution_count": 19,
   "metadata": {},
   "outputs": [],
   "source": [
    "vna = cli.create_instrument(\n",
    "    'instrumentserver.testing.dummy_instruments.rf.ResonatorResponse', \n",
    "    'vna', # this is the name of the instrument in the server station\n",
    "    f0=6.789e9, # the resonance frequency of the mock resonator\n",
    "    df=1e6, # the linewidth\n",
    ")"
   ]
  },
  {
   "cell_type": "markdown",
   "metadata": {},
   "source": [
    "## Using the parameter manager in measurements"
   ]
  },
  {
   "cell_type": "code",
   "execution_count": null,
   "metadata": {},
   "outputs": [],
   "source": []
  },
  {
   "cell_type": "markdown",
   "metadata": {},
   "source": [
    "## Saving and recalling the state of the setup"
   ]
  },
  {
   "cell_type": "markdown",
   "metadata": {},
   "source": [
    "To save the state of the setup into a json file we call the `paramsToFile` method. "
   ]
  },
  {
   "cell_type": "code",
   "execution_count": 10,
   "metadata": {},
   "outputs": [],
   "source": [
    "cli.paramsToFile('parameters.json')"
   ]
  },
  {
   "cell_type": "markdown",
   "metadata": {},
   "source": [
    "We can also save the state by pressing the `Save to file` button in the top left of GUI.\n",
    "By default `paramsToFile` saves only the name and value of a parameter (`save to file` button works tthe same way). To save the unit too, we need to specify in the arguments what we want to be saved.\n"
   ]
  },
  {
   "cell_type": "code",
   "execution_count": 12,
   "metadata": {},
   "outputs": [],
   "source": [
    "cli.paramsToFile('parameters.json', instrument='params', attrs=['value', 'unit'])"
   ]
  },
  {
   "cell_type": "markdown",
   "metadata": {},
   "source": [
    "To load an already saved state we use the `paramsFromFile` method."
   ]
  },
  {
   "cell_type": "code",
   "execution_count": 13,
   "metadata": {},
   "outputs": [],
   "source": [
    "cli.paramsFromFile('parameters.json')"
   ]
  },
  {
   "cell_type": "markdown",
   "metadata": {},
   "source": [
    "We can also load an already state by pressing the `load from file` button in top left of the GUI."
   ]
  },
  {
   "cell_type": "markdown",
   "metadata": {},
   "source": [
    "## Additional perks"
   ]
  },
  {
   "cell_type": "markdown",
   "metadata": {},
   "source": [
    "very easy for us to add automation features.\n",
    "- logging for every instrument.\n",
    "- TBD: signals to external listeners (useful for keeping track of all values without calling get)"
   ]
  },
  {
   "cell_type": "markdown",
   "metadata": {},
   "source": [
    "# Plottr: data management and inspection"
   ]
  },
  {
   "cell_type": "markdown",
   "metadata": {},
   "source": [
    "[Using plottr with qcodes](https://qcodes.github.io/Qcodes/examples/plotting/How-to-use-Plottr-with-QCoDeS-for-live-plotting.html)"
   ]
  },
  {
   "cell_type": "markdown",
   "metadata": {},
   "source": [
    "## Saving measurement data"
   ]
  },
  {
   "cell_type": "markdown",
   "metadata": {},
   "source": [
    "## Data inspection"
   ]
  },
  {
   "cell_type": "markdown",
   "metadata": {},
   "source": [
    "## Live plotting"
   ]
  },
  {
   "cell_type": "markdown",
   "metadata": {},
   "source": [
    "# Labcore: tools for increasing efficiency"
   ]
  },
  {
   "cell_type": "markdown",
   "metadata": {},
   "source": [
    "## Parameter sweeps"
   ]
  },
  {
   "cell_type": "markdown",
   "metadata": {},
   "source": [
    "### Simple example using qcodes parameters"
   ]
  },
  {
   "cell_type": "markdown",
   "metadata": {},
   "source": [
    "### Measurement functions"
   ]
  },
  {
   "cell_type": "markdown",
   "metadata": {},
   "source": [
    "# A practical workflow suggestion"
   ]
  },
  {
   "cell_type": "code",
   "execution_count": null,
   "metadata": {},
   "outputs": [],
   "source": []
  },
  {
   "cell_type": "code",
   "execution_count": null,
   "metadata": {},
   "outputs": [],
   "source": []
  },
  {
   "cell_type": "code",
   "execution_count": null,
   "metadata": {},
   "outputs": [],
   "source": []
  },
  {
   "cell_type": "code",
   "execution_count": null,
   "metadata": {},
   "outputs": [],
   "source": [
    "from instrumentserver import InstrumentClient"
   ]
  },
  {
   "cell_type": "code",
   "execution_count": null,
   "metadata": {},
   "outputs": [],
   "source": [
    "ins_cli = InstrumentClient()"
   ]
  },
  {
   "cell_type": "code",
   "execution_count": null,
   "metadata": {},
   "outputs": [],
   "source": [
    "ins_cli.list_instruments()"
   ]
  },
  {
   "cell_type": "code",
   "execution_count": null,
   "metadata": {},
   "outputs": [],
   "source": [
    "%history"
   ]
  },
  {
   "cell_type": "code",
   "execution_count": null,
   "metadata": {},
   "outputs": [],
   "source": [
    "get_ipython().magic(\"history\")"
   ]
  },
  {
   "cell_type": "code",
   "execution_count": null,
   "metadata": {},
   "outputs": [],
   "source": []
  }
 ],
 "metadata": {
  "kernelspec": {
   "display_name": "Python [conda env:qcodes]",
   "language": "python",
   "name": "conda-env-qcodes-py"
  },
  "language_info": {
   "codemirror_mode": {
    "name": "ipython",
    "version": 3
   },
   "file_extension": ".py",
   "mimetype": "text/x-python",
   "name": "python",
   "nbconvert_exporter": "python",
   "pygments_lexer": "ipython3",
   "version": "3.9.2"
  },
  "toc-autonumbering": true
 },
 "nbformat": 4,
 "nbformat_minor": 4
}
