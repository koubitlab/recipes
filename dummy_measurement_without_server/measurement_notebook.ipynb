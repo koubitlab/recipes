{
 "cells": [
  {
   "cell_type": "markdown",
   "metadata": {
    "Collapsed": "false"
   },
   "source": [
    "# README"
   ]
  },
  {
   "cell_type": "markdown",
   "metadata": {
    "Collapsed": "false"
   },
   "source": [
    "This is an example to illustrate how measurement notebooks could look like.\n",
    "Of course this is easy to convert to a script, if you prefer working with spyder, for example.\n",
    "\n",
    "Some things are not in a state yet that we're fully happy with, they're annotated correspondingly.\n",
    "\n",
    "**TODO:** the initialization could be in a separate script or notebook. That would be useful if multiple notebooks run measurements, for example."
   ]
  },
  {
   "cell_type": "markdown",
   "metadata": {
    "Collapsed": "false"
   },
   "source": [
    "# Initialization"
   ]
  },
  {
   "cell_type": "markdown",
   "metadata": {
    "Collapsed": "false"
   },
   "source": [
    "## Imports"
   ]
  },
  {
   "cell_type": "code",
   "execution_count": null,
   "metadata": {
    "Collapsed": "false"
   },
   "outputs": [],
   "source": [
    "%matplotlib inline"
   ]
  },
  {
   "cell_type": "code",
   "execution_count": null,
   "metadata": {
    "Collapsed": "false"
   },
   "outputs": [],
   "source": [
    "from pprint import pprint\n",
    "import time\n",
    "\n",
    "import numpy as np\n",
    "from matplotlib import pyplot as plt\n",
    "import h5py\n",
    "\n",
    "\n",
    "from qcodes import Instrument, Station, find_or_create_instrument\n",
    "from plottr.data import datadict_storage as dds, datadict as dd"
   ]
  },
  {
   "cell_type": "markdown",
   "metadata": {
    "Collapsed": "false"
   },
   "source": [
    "## Configuration"
   ]
  },
  {
   "cell_type": "code",
   "execution_count": null,
   "metadata": {
    "Collapsed": "false"
   },
   "outputs": [],
   "source": [
    "DATADIR = './data/'"
   ]
  },
  {
   "cell_type": "code",
   "execution_count": null,
   "metadata": {
    "Collapsed": "false"
   },
   "outputs": [],
   "source": []
  },
  {
   "cell_type": "markdown",
   "metadata": {
    "Collapsed": "false"
   },
   "source": [
    "## Create instruments"
   ]
  },
  {
   "cell_type": "markdown",
   "metadata": {
    "Collapsed": "false"
   },
   "source": [
    "**TODO:** here we would prefer getting the instruments from the server."
   ]
  },
  {
   "cell_type": "code",
   "execution_count": null,
   "metadata": {
    "Collapsed": "false"
   },
   "outputs": [],
   "source": [
    "# Create a new station, close all previous instruments\n",
    "Instrument.close_all()\n",
    "station = Station()"
   ]
  },
  {
   "cell_type": "code",
   "execution_count": null,
   "metadata": {
    "Collapsed": "false"
   },
   "outputs": [],
   "source": [
    "from instrumentserver.testing.dummy_instruments.rf import ResonatorResponse\n",
    "vna = find_or_create_instrument(ResonatorResponse, 'vna')\n",
    "station.add_component(vna)\n",
    "\n",
    "vna.resonator_frequency(5e9)\n",
    "vna.resonator_linewidth(10e6)"
   ]
  },
  {
   "cell_type": "code",
   "execution_count": null,
   "metadata": {
    "Collapsed": "false"
   },
   "outputs": [],
   "source": [
    "from instrumentserver.testing.dummy_instruments.rf import FluxControl\n",
    "flux = find_or_create_instrument(FluxControl, 'flux', vna)\n",
    "station.add_component(flux)"
   ]
  },
  {
   "cell_type": "markdown",
   "metadata": {
    "Collapsed": "false"
   },
   "source": [
    "# Example: Flux tuning a resonator"
   ]
  },
  {
   "cell_type": "markdown",
   "metadata": {
    "Collapsed": "true"
   },
   "source": [
    "## Testing"
   ]
  },
  {
   "cell_type": "code",
   "execution_count": null,
   "metadata": {
    "Collapsed": "false"
   },
   "outputs": [],
   "source": [
    "# just acquire a trace and plot. The resonance frequency should change when changing the flux.\n",
    "vna.start_frequency(4e9)\n",
    "vna.stop_frequency(5.2e9)\n",
    "vna.npoints(1201)\n",
    "vna.bandwidth(1e3)\n",
    "vna.power(-50)\n",
    "flux.flux(-0.25)\n",
    "\n",
    "f_vals = vna.frequency()\n",
    "s11_vals = vna.data()\n",
    "\n",
    "fig, ax = plt.subplots(1, 1)\n",
    "ax.plot(f_vals, np.angle(s11_vals))"
   ]
  },
  {
   "cell_type": "markdown",
   "metadata": {
    "Collapsed": "false"
   },
   "source": [
    "## Measurement"
   ]
  },
  {
   "cell_type": "markdown",
   "metadata": {
    "Collapsed": "false"
   },
   "source": [
    "### Basics\n",
    "\n",
    "This is a very simple example for how to use DDH5Writer to save data to hdf5.\n",
    "The basic structure is:\n",
    "\n",
    "1. specify the structure of the data. This is required for two reasons: A, knowing the data structure before actually running measurement code allows to pre-define objects in the data files, which is important for accessing the data from multiple programs (single-writer multi-reader support). B, for all features in live-plotting and analysis to work we need to know the relations between different data objects (like dependent and independent data). \n",
    "\n",
    "2. use the Writer as context manager to add data (in practice, in some kind of measurement loop). \n",
    "\n",
    "\n",
    "### Live plotting\n",
    "\n",
    "You can use `plottr` to live plot the data (or plot it later). An easy way to do this is by running the `monitr` app from the command line. This assumes that plottr is installed through pip, which should create the required launcher script. Run (and replace ``<datadir>`` with your data directory root):\n",
    "\n",
    "``\n",
    "    $ plottr-monitr <datadir>\n",
    "``\n",
    "\n",
    "You should see the monitr window open. On the left you will see all data files in your data directory. If you select a data file, the right hand side will display the contents of that file. you can plot data by right-clicking on a top-level group container and selecting 'Plot ``<group>``'.\n",
    "\n",
    "If you activate the ``Auto-plot new`` button in the toolbar, any new data files appearing from this point on will be plotted automatically. The default refresh rate for the monitr app is 2 seconds (can be set a startup as a command line option).\n",
    "\n",
    "\n",
    "### Notes\n",
    "\n",
    "**TODO:** This is using the bare file writer. Some things, like setting up the data structure will be made easier, but the new measurement structures are will work in progress.\n",
    "\n",
    "**TODO:** This isn't saving meta data yet, or copying additional files. An easy way to circumvent that for the time being is by inheriting from the DDH5 writer."
   ]
  },
  {
   "cell_type": "code",
   "execution_count": null,
   "metadata": {
    "Collapsed": "false"
   },
   "outputs": [],
   "source": [
    "# this is defining the data structure.\n",
    "data = dd.DataDict(\n",
    "    flux = dict(unit='Phi0'),\n",
    "    frequency = dict(unit='Hz'),\n",
    "    s11 = dict(axes=['flux', 'frequency']), # no unit, complex.\n",
    ")\n",
    "data.validate() # this is just for catching mistakes.\n",
    "\n",
    "with dds.DDH5Writer(DATADIR, data, name='FluxSweep') as writer:\n",
    "    for flux_val in np.linspace(-1,1,101):\n",
    "        flux.flux(flux_val)\n",
    "        time.sleep(0.2)\n",
    "        \n",
    "        # the writer accepts one line for each data field.\n",
    "        # that means we should reshape the data that each entry has the form [<data>].\n",
    "        # for practical purposes that means that each frequency and s11 data array\n",
    "        # is like one datapoint.\n",
    "        writer.add_data(\n",
    "            flux = [flux_val],\n",
    "            frequency = vna.frequency().reshape(1,-1),\n",
    "            s11 = vna.data().reshape(1,-1),\n",
    "        )\n",
    "        \n",
    "        "
   ]
  },
  {
   "cell_type": "markdown",
   "metadata": {
    "Collapsed": "true"
   },
   "source": [
    "### Inspecting the data\n",
    "\n",
    "This is just to illustrate how to open and look at the data. You often would not actually do that in the measurement notebook.\n",
    "\n",
    "Note that the data is currently also in the memory. **TODO**: an operation mode for not keeping the data in the memory is not implemented yet.\n",
    "\n",
    "To illustrate, we look at the data in the memory, and compare with the file."
   ]
  },
  {
   "cell_type": "code",
   "execution_count": null,
   "metadata": {
    "Collapsed": "false"
   },
   "outputs": [],
   "source": [
    "# when we look at the data now, we see it's not on a grid, even though we want the data to be.\n",
    "pprint(data.structure())\n",
    "pprint(data.shapes())\n",
    "\n",
    "# this is detecting the grid in the data\n",
    "data_as_grid = dd.datadict_to_meshgrid(data)\n",
    "pprint(data_as_grid.structure())\n",
    "pprint(data_as_grid.shapes())\n",
    "\n",
    "flux_data = data_as_grid.data_vals('flux')\n",
    "frq_data = data_as_grid.data_vals('frequency')\n",
    "s11_data = data_as_grid.data_vals('s11')\n",
    "\n",
    "fig, ax = plt.subplots(1, 1)\n",
    "\n",
    "ax.imshow(\n",
    "    np.angle(s11_data.T), \n",
    "    aspect='auto', origin='lower',\n",
    "    extent=[flux_data.min(), flux_data.max(), frq_data.min(), frq_data.max()]\n",
    ")\n",
    "ax.set_xlabel('Flux (phi_0)')\n",
    "ax.set_ylabel('Frequency (Hz)')"
   ]
  },
  {
   "cell_type": "code",
   "execution_count": null,
   "metadata": {
    "Collapsed": "false"
   },
   "outputs": [],
   "source": [
    "# Loading from file is essentiall the same thing:\n",
    "data_from_file = dds.datadict_from_hdf5(writer.file_path)\n",
    "data_as_grid = dd.datadict_to_meshgrid(data_from_file)\n",
    "\n",
    "flux_data = data_as_grid.data_vals('flux')\n",
    "frq_data = data_as_grid.data_vals('frequency')\n",
    "s11_data = data_as_grid.data_vals('s11')\n",
    "\n",
    "fig, ax = plt.subplots(1, 1)\n",
    "\n",
    "ax.imshow(\n",
    "    np.angle(s11_data.T), \n",
    "    aspect='auto', origin='lower',\n",
    "    extent=[flux_data.min(), flux_data.max(), frq_data.min(), frq_data.max()]\n",
    ")\n",
    "ax.set_xlabel('Flux (phi_0)')\n",
    "ax.set_ylabel('Frequency (Hz)')"
   ]
  },
  {
   "cell_type": "code",
   "execution_count": null,
   "metadata": {
    "Collapsed": "false"
   },
   "outputs": [],
   "source": []
  },
  {
   "cell_type": "code",
   "execution_count": null,
   "metadata": {
    "Collapsed": "false"
   },
   "outputs": [],
   "source": []
  },
  {
   "cell_type": "code",
   "execution_count": null,
   "metadata": {
    "Collapsed": "false"
   },
   "outputs": [],
   "source": []
  }
 ],
 "metadata": {
  "kernelspec": {
   "display_name": "Python [conda env:qcodes]",
   "language": "python",
   "name": "conda-env-qcodes-py"
  },
  "language_info": {
   "codemirror_mode": {
    "name": "ipython",
    "version": 3
   },
   "file_extension": ".py",
   "mimetype": "text/x-python",
   "name": "python",
   "nbconvert_exporter": "python",
   "pygments_lexer": "ipython3",
   "version": "3.7.5"
  }
 },
 "nbformat": 4,
 "nbformat_minor": 4
}
