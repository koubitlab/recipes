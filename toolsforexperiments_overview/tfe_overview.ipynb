{
 "cells": [
  {
   "cell_type": "code",
   "execution_count": null,
   "metadata": {},
   "outputs": [],
   "source": []
  },
  {
   "cell_type": "markdown",
   "metadata": {},
   "source": [
    "# Introduction"
   ]
  },
  {
   "cell_type": "markdown",
   "metadata": {},
   "source": [
    "- Assumptions: \n",
    "  - know qcodes basics"
   ]
  },
  {
   "cell_type": "markdown",
   "metadata": {},
   "source": [
    "## Imports"
   ]
  },
  {
   "cell_type": "code",
   "execution_count": 1,
   "metadata": {},
   "outputs": [],
   "source": [
    "from pprint import pprint\n",
    "import time\n",
    "\n",
    "import numpy as np\n",
    "from matplotlib import pyplot as plt\n",
    "import h5py\n",
    "\n",
    "\n",
    "from qcodes import Instrument, Station, find_or_create_instrument\n",
    "from plottr.data import datadict_storage as dds, datadict as dd"
   ]
  },
  {
   "cell_type": "markdown",
   "metadata": {},
   "source": [
    "# The instrument server"
   ]
  },
  {
   "cell_type": "markdown",
   "metadata": {},
   "source": [
    "The role of the instrument server is to manage access to instruments (both real and virtual), so they can be used from multiple processes. \n",
    "It's not strictly necessary to use it, and its designed such that using instruments through the server can be used also to talk to instruments that are instantiated directly.\n",
    "\n",
    "Start the instrumentserver from the commandline (in an env't that has qcodes and the instrumentserver package installed) in a directory that will be the working directory for the server.\n",
    "\n",
    "```bash\n",
    "    $ instrumentserver --gui True\n",
    "```\n",
    "\n",
    "Because no instruments are instantiated at this point, we get an empty window reflecting the blank qcodes station living inside the server.\n",
    "We can already create a client in this notebook that connects to the instrumentserver:"
   ]
  },
  {
   "cell_type": "code",
   "execution_count": 2,
   "metadata": {},
   "outputs": [],
   "source": [
    "from instrumentserver.client import Client as InstrumentClient\n",
    "cli = InstrumentClient() # connect to default host (localhost) and default port (5555)"
   ]
  },
  {
   "cell_type": "markdown",
   "metadata": {},
   "source": [
    "We will now see how we can make use of the fact that we can talk to the instrumentserver from multiple processes. \n",
    "We'll create a virtual instrument (something with no direct counterpart on the hardware side) that allows us to manage arbitrary experiment parameters that we can access across the setup (a fancy way to keep track of important variables). After that, we'll set up some dummy instruments and perform some fake data acquisition with them."
   ]
  },
  {
   "cell_type": "markdown",
   "metadata": {},
   "source": [
    "## Parameter manager\n",
    "\n",
    "We'll first launch the *parameter manager*. Because it has a dedicated GUI we run it as a standalone program. \n",
    "From a command line prompt we can launch the example script that's located in the folder of this manual (again, make sure to do this within an env't that has the instrumentserver package installed):\n",
    "\n",
    "```bash\n",
    "    $ python run_parameter_manager.py\n",
    "```\n",
    "\n",
    "We'll simply get an empty window now.\n",
    "The bottom of the window allows us to add arbitrary parameters and values, where dots serve as hierarchy separators (like objects and their children in python).\n",
    "Let's add a few parameters, let's say `qubit.frequency`, `qubit.pipulse.len`, `qubit.pipulse.amp` and give them some arbitrary values.\n",
    "We'll see something like this:\n",
    "\n",
    "![Parameter manager window](figures/parammgr.png)\n",
    "\n",
    "Because parameters live in the instrumentserver we can access the values here by creating a 'Proxy' instrument that forwards all requests to the 'real' instrument."
   ]
  },
  {
   "cell_type": "code",
   "execution_count": 3,
   "metadata": {},
   "outputs": [
    {
     "data": {
      "text/plain": [
       "40"
      ]
     },
     "execution_count": 3,
     "metadata": {},
     "output_type": "execute_result"
    }
   ],
   "source": [
    "params = cli.get_instrument('params') # 'params' is the name the startup script gave the instrument\n",
    "\n",
    "# simply output the value of the pi pulse length:\n",
    "params.qubit.pipulse.len()"
   ]
  },
  {
   "cell_type": "markdown",
   "metadata": {},
   "source": [
    "**A note on synchronization of available instrument parameters between clients** \n",
    "\n",
    "Currently, automatic synchronization of registered parameters (and GUI-displayed values of parameters) is an outstanding feature. (This will be implemented soon.)\n",
    "\n",
    "*It is, however, important to stress that the actual value of any parameter is stored in the server. That means that calling a parameter to get its value or to set it always results in the correct outcome.*\n",
    "\n",
    "After we change values in the parameter manager from our interactive notebook (or a console), we need to manually refresh the GUI to make those visible:"
   ]
  },
  {
   "cell_type": "code",
   "execution_count": 4,
   "metadata": {},
   "outputs": [],
   "source": [
    "# after executing, go to the GUI and press the refresh icon in the upper left to see the change.\n",
    "params.qubit.pipulse.len(100)"
   ]
  },
  {
   "cell_type": "markdown",
   "metadata": {},
   "source": [
    "The same goes for adding new parameters after all clients are connected.\n",
    "We can add new parameters very easily from any client, but to make them visible we need to refresh the other clients:"
   ]
  },
  {
   "cell_type": "code",
   "execution_count": 5,
   "metadata": {},
   "outputs": [],
   "source": [
    "# this will only be available in the GUI after pressing the refresh button.\n",
    "params.add_parameter('qubit.anharmonicity', initial_value=-150.0, unit='MHz') #buglist, updating the GUI before the next cell crashes the GUI"
   ]
  },
  {
   "cell_type": "markdown",
   "metadata": {},
   "source": [
    "Conversely, if we add a parameter in the instrument GUI (let's say: `resonator.frequency`), we need to update the other clients (like the one in our notebook) before being able to access it:"
   ]
  },
  {
   "cell_type": "code",
   "execution_count": 7,
   "metadata": {},
   "outputs": [
    {
     "ename": "AttributeError",
     "evalue": "'ProxyInstrumentModule' object and its delegates have no attribute 'resonator'",
     "output_type": "error",
     "traceback": [
      "\u001b[1;31m---------------------------------------------------------------------------\u001b[0m",
      "\u001b[1;31mAttributeError\u001b[0m                            Traceback (most recent call last)",
      "\u001b[1;32m<ipython-input-7-148de3ec2ffd>\u001b[0m in \u001b[0;36m<module>\u001b[1;34m\u001b[0m\n\u001b[0;32m      1\u001b[0m \u001b[1;31m# our proxy instrument does not yet know that the parameter exist right after creating it in the GUI.\u001b[0m\u001b[1;33m\u001b[0m\u001b[1;33m\u001b[0m\u001b[1;33m\u001b[0m\u001b[0m\n\u001b[0;32m      2\u001b[0m \u001b[1;31m# Only the proxy instrument of the GUI, as well as the instrumentserver, have that information at this moment.\u001b[0m\u001b[1;33m\u001b[0m\u001b[1;33m\u001b[0m\u001b[1;33m\u001b[0m\u001b[0m\n\u001b[1;32m----> 3\u001b[1;33m \u001b[0mparams\u001b[0m\u001b[1;33m.\u001b[0m\u001b[0mresonator\u001b[0m\u001b[1;33m.\u001b[0m\u001b[0mfrequency\u001b[0m\u001b[1;33m(\u001b[0m\u001b[1;33m)\u001b[0m\u001b[1;33m\u001b[0m\u001b[1;33m\u001b[0m\u001b[0m\n\u001b[0m",
      "\u001b[1;32m~\\Miniconda3\\envs\\qcodes\\lib\\site-packages\\qcodes\\utils\\helpers.py\u001b[0m in \u001b[0;36m__getattr__\u001b[1;34m(self, key)\u001b[0m\n\u001b[0;32m    404\u001b[0m                 \u001b[1;32mpass\u001b[0m\u001b[1;33m\u001b[0m\u001b[1;33m\u001b[0m\u001b[0m\n\u001b[0;32m    405\u001b[0m \u001b[1;33m\u001b[0m\u001b[0m\n\u001b[1;32m--> 406\u001b[1;33m         raise AttributeError(\n\u001b[0m\u001b[0;32m    407\u001b[0m             \"'{}' object and its delegates have no attribute '{}'\".format(\n\u001b[0;32m    408\u001b[0m                 self.__class__.__name__, key))\n",
      "\u001b[1;31mAttributeError\u001b[0m: 'ProxyInstrumentModule' object and its delegates have no attribute 'resonator'"
     ]
    }
   ],
   "source": [
    "# our proxy instrument does not yet know that the parameter exist right after creating it in the GUI.\n",
    "# Only the proxy instrument of the GUI, as well as the instrumentserver, have that information at this moment.\n",
    "params.resonator.frequency()"
   ]
  },
  {
   "cell_type": "markdown",
   "metadata": {},
   "source": [
    "To sync a local client, we can call it's `update` method:"
   ]
  },
  {
   "cell_type": "code",
   "execution_count": 8,
   "metadata": {},
   "outputs": [
    {
     "data": {
      "text/plain": [
       "56"
      ]
     },
     "execution_count": 8,
     "metadata": {},
     "output_type": "execute_result"
    }
   ],
   "source": [
    "params.update()\n",
    "params.resonator.frequency()"
   ]
  },
  {
   "cell_type": "markdown",
   "metadata": {},
   "source": [
    "## Adding instruments to the server"
   ]
  },
  {
   "cell_type": "markdown",
   "metadata": {},
   "source": [
    "When using 'vanilla' qcodes, we would simply create a qcodes station in our working kernel, then add instruments by instantiating the corresponding driver classes.\n",
    "When using the instrumentserver to manage our instrument instances, we instead want to instantiate inside the station that the server runs.\n",
    "\n",
    "As an example, we will add a dummy instrument that behaves like a vector network analyzer and simulates a resonator response.\n",
    "Only the server will instantiate it, so instead of importing the driver, we pass the import path (of course, needs to be known in the environment that the server is running in)."
   ]
  },
  {
   "cell_type": "code",
   "execution_count": 9,
   "metadata": {},
   "outputs": [],
   "source": [
    "vna = cli.create_instrument(\n",
    "    'instrumentserver.testing.dummy_instruments.rf.ResonatorResponse', \n",
    "    'vna', # this is the name of the instrument in the server station\n",
    "    f0=6.789e9, # the resonance frequency of the mock resonator\n",
    "    df=1e6,# the linewidth\n",
    ")"
   ]
  },
  {
   "cell_type": "markdown",
   "metadata": {},
   "source": [
    "Once the instrument is created in the server we can add its parameters in the parameter manager and other parameters."
   ]
  },
  {
   "cell_type": "code",
   "execution_count": 10,
   "metadata": {},
   "outputs": [],
   "source": [
    "#adding parametrs to the parameter manager\n",
    "params.add_parameter('vna.linewidth', initial_value=10e6, unit='Hz')\n",
    "params.resonator.frequency(5e9)\n",
    "#loading the values from the parameter manager into the instrument itself\n",
    "params.update()\n",
    "vna.resonator_frequency(params.resonator.frequency())\n",
    "vna.resonator_linewidth(params.vna.linewidth())\n",
    "\n",
    "#setting up the rest of the parameters\n",
    "vna.start_frequency(4e9)\n",
    "vna.stop_frequency(5.2e9)\n",
    "vna.npoints(1201)\n",
    "vna.bandwidth(1e3)\n",
    "vna.power(-50)"
   ]
  },
  {
   "cell_type": "markdown",
   "metadata": {},
   "source": [
    "## Using the parameter manager in measurements\n",
    "\n",
    "Refer to [measurement_notebook](https://github.com/toolsforexperiments/recipes/blob/master/dummy_measurement_without_server/measurement_notebook.ipynb) for a more in depth guide example of the measurement we are taking. \n",
    "\n",
    "### Variable flux tunning resonator.\n",
    "\n",
    "We first perform a simple test by tunning a flux resonator.\n"
   ]
  },
  {
   "cell_type": "code",
   "execution_count": 11,
   "metadata": {},
   "outputs": [],
   "source": [
    "DATADIR = './data/'"
   ]
  },
  {
   "cell_type": "markdown",
   "metadata": {},
   "source": [
    "We initilize a flux control instrument in the server and add the flux parameter into the parameter manager."
   ]
  },
  {
   "cell_type": "code",
   "execution_count": 12,
   "metadata": {},
   "outputs": [],
   "source": [
    "fluxControl = cli.create_instrument(\n",
    "    'instrumentserver.testing.dummy_instruments.rf.FluxControl',\n",
    "    'flux',\n",
    "    resonator_instrument='vna')\n",
    "\n",
    "\n",
    "params.add_parameter('flux_control.flux', initial_value=-0.25, unit='V')"
   ]
  },
  {
   "cell_type": "markdown",
   "metadata": {},
   "source": [
    "Once the flux instrument is ready we can acquire and plot the trace."
   ]
  },
  {
   "cell_type": "code",
   "execution_count": 25,
   "metadata": {},
   "outputs": [
    {
     "data": {
      "image/png": "[encoded data removed]",
      "text/plain": [
       "<Figure size 432x288 with 1 Axes>"
      ]
     },
     "metadata": {
      "needs_background": "light"
     },
     "output_type": "display_data"
    }
   ],
   "source": [
    "def acquire_flux_trace():\n",
    "    # just acquire a trace and plot. The resonance frequency should change when changing the flux.\n",
    "    fluxControl.flux(params.flux_control.flux())\n",
    "\n",
    "    f_vals = vna.frequency()\n",
    "    s11_vals = vna.data()\n",
    "\n",
    "    fig, ax = plt.subplots(1, 1)\n",
    "    ax.plot(f_vals, np.angle(s11_vals))\n",
    "acquire_flux_trace()"
   ]
  },
  {
   "cell_type": "markdown",
   "metadata": {},
   "source": [
    "We can now change the flux from the parameter manager and see the change in the trace when we measure it again."
   ]
  },
  {
   "cell_type": "code",
   "execution_count": 26,
   "metadata": {},
   "outputs": [
    {
     "data": {
      "image/png": "[encoded data removed]",
      "text/plain": [
       "<Figure size 432x288 with 1 Axes>"
      ]
     },
     "metadata": {
      "needs_background": "light"
     },
     "output_type": "display_data"
    }
   ],
   "source": [
    "params.flux_control.flux(-0.35) #this step can also be performed by manually changing the value through the GUI\n",
    "acquire_flux_trace()"
   ]
  },
  {
   "cell_type": "markdown",
   "metadata": {},
   "source": [
    "### Performing a measurment and influencing it.\n",
    "\n",
    "We can perform a measurement and change its parameter the same way."
   ]
  },
  {
   "cell_type": "code",
   "execution_count": 32,
   "metadata": {},
   "outputs": [],
   "source": [
    "#Defining our measurement based on the previously mentioned notebook\n",
    "def measure_flux_sweep(start, stop, steps, plot=True):\n",
    "\n",
    "    vna.resonator_frequency(params.resonator.frequency()) # updating the vna resonator frequency -- in a real measurement this happens of course in hardware...\n",
    "\n",
    "    with dds.DDH5Writer(DATADIR, \n",
    "        dd.DataDict(flux = dict(unit='Phi0'),\n",
    "                    frequency = dict(unit='Hz'),\n",
    "                    s11 = dict(axes=['flux', 'frequency'])),\n",
    "        name='FluxSweep') as writer:\n",
    "\n",
    "        for flux_val in np.linspace(start, stop, steps):\n",
    "            fluxControl.flux(flux_val)\n",
    "            \n",
    "            writer.add_data(\n",
    "                flux = [flux_val],\n",
    "                frequency = vna.frequency().reshape(1,-1),\n",
    "                s11 = vna.data().reshape(1,-1),\n",
    "            )\n",
    "\n",
    "    if plot:\n",
    "        # this is plotting the data\n",
    "        data_as_grid = dd.datadict_to_meshgrid(writer.datadict)\n",
    "        flux_data = data_as_grid.data_vals('flux')\n",
    "        frq_data = data_as_grid.data_vals('frequency')\n",
    "        s11_data = data_as_grid.data_vals('s11')\n",
    "\n",
    "        fig, ax = plt.subplots(1, 1)\n",
    "        ax.imshow(\n",
    "            np.angle(s11_data.T), \n",
    "            aspect='auto', origin='lower',\n",
    "            extent=[flux_data.min(), flux_data.max(), frq_data.min(), frq_data.max()]\n",
    "        )\n",
    "        ax.set_xlabel('Flux (phi_0)')\n",
    "        ax.set_ylabel('Frequency (Hz)')"
   ]
  },
  {
   "cell_type": "markdown",
   "metadata": {},
   "source": [
    "Now we can perform a base measurement."
   ]
  },
  {
   "cell_type": "code",
   "execution_count": 35,
   "metadata": {},
   "outputs": [
    {
     "name": "stdout",
     "output_type": "stream",
     "text": [
      "Data location:  ./data/2021-04-28\\2021-04-28_0026_FluxSweep\\2021-04-28_0026_FluxSweep.ddh5\n"
     ]
    },
    {
     "data": {
      "image/png": "[encoded data removed]",
      "text/plain": [
       "<Figure size 432x288 with 1 Axes>"
      ]
     },
     "metadata": {
      "needs_background": "light"
     },
     "output_type": "display_data"
    }
   ],
   "source": [
    "measure_flux_sweep(-1, 1, 101)"
   ]
  },
  {
   "cell_type": "markdown",
   "metadata": {},
   "source": [
    "If we then proceed to modify the `resonator.frequency` parameter to say 6e9 from the GUI we can see how the new parameter gets automatically updated into the repeated measurement."
   ]
  },
  {
   "cell_type": "code",
   "execution_count": 39,
   "metadata": {},
   "outputs": [
    {
     "name": "stdout",
     "output_type": "stream",
     "text": [
      "Data location:  ./data/2021-04-28\\2021-04-28_0030_FluxSweep\\2021-04-28_0030_FluxSweep.ddh5\n"
     ]
    },
    {
     "data": {
      "image/png": "[encoded data removed]",
      "text/plain": [
       "<Figure size 432x288 with 1 Axes>"
      ]
     },
     "metadata": {
      "needs_background": "light"
     },
     "output_type": "display_data"
    }
   ],
   "source": [
    "measure_flux_sweep(-1, 1, 101)"
   ]
  },
  {
   "cell_type": "markdown",
   "metadata": {},
   "source": [
    "## Saving and recalling the state of the setup"
   ]
  },
  {
   "cell_type": "markdown",
   "metadata": {},
   "source": [
    "### Saving\n",
    "\n",
    "To save the state of the setup into a json file we call the `paramsToFile` method. "
   ]
  },
  {
   "cell_type": "code",
   "execution_count": 40,
   "metadata": {},
   "outputs": [],
   "source": [
    "cli.paramsToFile('parameters.json')"
   ]
  },
  {
   "cell_type": "markdown",
   "metadata": {},
   "source": [
    "We can also save the state by pressing the `Save to file` button in the top left of GUI. We can also utilize the `Save parameters to file` button from the parameter manager GUI to only save the parameters and not the entire state of the server.\n",
    "By default `paramsToFile` saves only the name and value of a parameter (`save to file` button works the same way). To save the units too, we need to specify in the arguments what we want to be saved."
   ]
  },
  {
   "cell_type": "code",
   "execution_count": 41,
   "metadata": {},
   "outputs": [],
   "source": [
    "cli.paramsToFile('parameters.json', instrument='params', attrs=['value', 'unit'])"
   ]
  },
  {
   "cell_type": "markdown",
   "metadata": {},
   "source": [
    "### Loading\n",
    "\n",
    "To load an already saved state we use the `paramsFromFile` method."
   ]
  },
  {
   "cell_type": "code",
   "execution_count": 42,
   "metadata": {},
   "outputs": [],
   "source": [
    "cli.paramsFromFile('parameters.json')"
   ]
  },
  {
   "cell_type": "markdown",
   "metadata": {},
   "source": [
    "We can also load an already state by pressing the `load from file` button in top left of the GUI."
   ]
  },
  {
   "cell_type": "markdown",
   "metadata": {},
   "source": [
    "## Additional perks"
   ]
  },
  {
   "cell_type": "markdown",
   "metadata": {},
   "source": [
    "very easy for us to add automation features.\n",
    "- logging for every instrument.\n",
    "- TBD: signals to external listeners (useful for keeping track of all values without calling get)"
   ]
  },
  {
   "cell_type": "markdown",
   "metadata": {},
   "source": [
    "# Plottr: data management and inspection"
   ]
  },
  {
   "cell_type": "markdown",
   "metadata": {},
   "source": [
    "[Using plottr with qcodes](https://qcodes.github.io/Qcodes/examples/plotting/How-to-use-Plottr-with-QCoDeS-for-live-plotting.html)"
   ]
  },
  {
   "cell_type": "markdown",
   "metadata": {},
   "source": [
    "## Saving measurement data"
   ]
  },
  {
   "cell_type": "markdown",
   "metadata": {},
   "source": [
    "## Data inspection"
   ]
  },
  {
   "cell_type": "markdown",
   "metadata": {},
   "source": [
    "## Live plotting"
   ]
  },
  {
   "cell_type": "markdown",
   "metadata": {},
   "source": [
    "# Labcore: tools for increasing efficiency"
   ]
  },
  {
   "cell_type": "markdown",
   "metadata": {},
   "source": [
    "## Parameter sweeps"
   ]
  },
  {
   "cell_type": "markdown",
   "metadata": {},
   "source": [
    "### Simple example using qcodes parameters"
   ]
  },
  {
   "cell_type": "markdown",
   "metadata": {},
   "source": [
    "### Measurement functions"
   ]
  },
  {
   "cell_type": "markdown",
   "metadata": {},
   "source": [
    "# A practical workflow suggestion"
   ]
  },
  {
   "cell_type": "code",
   "execution_count": null,
   "metadata": {},
   "outputs": [],
   "source": []
  },
  {
   "cell_type": "code",
   "execution_count": null,
   "metadata": {},
   "outputs": [],
   "source": []
  },
  {
   "cell_type": "code",
   "execution_count": null,
   "metadata": {},
   "outputs": [],
   "source": []
  },
  {
   "cell_type": "code",
   "execution_count": null,
   "metadata": {},
   "outputs": [],
   "source": [
    "from instrumentserver import InstrumentClient"
   ]
  },
  {
   "cell_type": "code",
   "execution_count": null,
   "metadata": {},
   "outputs": [],
   "source": [
    "ins_cli = InstrumentClient()"
   ]
  },
  {
   "cell_type": "code",
   "execution_count": null,
   "metadata": {},
   "outputs": [],
   "source": [
    "ins_cli.list_instruments()"
   ]
  },
  {
   "cell_type": "code",
   "execution_count": null,
   "metadata": {},
   "outputs": [],
   "source": [
    "%history"
   ]
  },
  {
   "cell_type": "code",
   "execution_count": null,
   "metadata": {},
   "outputs": [],
   "source": [
    "get_ipython().magic(\"history\")"
   ]
  },
  {
   "cell_type": "code",
   "execution_count": null,
   "metadata": {},
   "outputs": [],
   "source": []
  }
 ],
 "metadata": {
  "kernelspec": {
   "display_name": "Python [conda env:qcodes]",
   "language": "python",
   "name": "conda-env-qcodes-py"
  },
  "language_info": {
   "codemirror_mode": {
    "name": "ipython",
    "version": 3
   },
   "file_extension": ".py",
   "mimetype": "text/x-python",
   "name": "python",
   "nbconvert_exporter": "python",
   "pygments_lexer": "ipython3",
   "version": "3.9.2"
  },
  "toc-autonumbering": true
 },
 "nbformat": 4,
 "nbformat_minor": 4
}
