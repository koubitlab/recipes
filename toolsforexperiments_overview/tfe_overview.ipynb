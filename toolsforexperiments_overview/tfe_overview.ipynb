{
 "cells": [
  {
   "cell_type": "markdown",
   "metadata": {},
   "source": [
    "# Introduction"
   ]
  },
  {
   "cell_type": "markdown",
   "metadata": {},
   "source": [
    "This notebook is aiming to broadly introduce all the major components of the toolsforexperiments suite.\n",
    "the document is currently still work in progress, but already a decent starting point for a few things.\n",
    "\n",
    "- Prerequisites: \n",
    "  - you should know the qcodes basics\n",
    "  - have a look at the 'dummy_measurement_without_server' example before"
   ]
  },
  {
   "cell_type": "markdown",
   "metadata": {},
   "source": [
    "# Imports\n",
    "\n",
    "We need to have some common packages installed, and also need qcodes and plottr.\n",
    "Refer to the official qcodes documentation for how to set up the right environment.\n",
    "\n",
    "Plottr can be installed from pip or conda, or from github.\n",
    "\n",
    "instrumentserver needs to be installed from github (and preferably using `pip install -e`)."
   ]
  },
  {
   "cell_type": "code",
   "execution_count": null,
   "metadata": {},
   "outputs": [],
   "source": [
    "from pprint import pprint\n",
    "import time\n",
    "\n",
    "import numpy as np\n",
    "from matplotlib import pyplot as plt\n",
    "import h5py\n",
    "\n",
    "from qcodes import Instrument, Station, find_or_create_instrument\n",
    "from plottr.data import datadict_storage as dds, datadict as dd"
   ]
  },
  {
   "cell_type": "markdown",
   "metadata": {},
   "source": [
    "# The instrument server"
   ]
  },
  {
   "cell_type": "markdown",
   "metadata": {},
   "source": [
    "The role of the instrument server is to manage access to instruments (both real and virtual), so they can be used from multiple processes. \n",
    "It's not strictly necessary to use it, and its designed such that using instruments through the server can be used also to talk to instruments that are instantiated directly.\n",
    "\n",
    "Start the instrumentserver from the commandline (in an env't that has qcodes and the instrumentserver package installed) in a directory that will be the working directory for the server.\n",
    "\n",
    "```bash\n",
    "    $ instrumentserver --gui True\n",
    "```\n",
    "\n",
    "Because no instruments are instantiated at this point, we get an empty window reflecting the blank qcodes station living inside the server.\n",
    "We can already create a client in this notebook that connects to the instrumentserver:"
   ]
  },
  {
   "cell_type": "code",
   "execution_count": null,
   "metadata": {},
   "outputs": [],
   "source": [
    "from instrumentserver.client import Client as InstrumentClient\n",
    "cli = InstrumentClient() # connect to default host (localhost) and default port (5555)"
   ]
  },
  {
   "cell_type": "markdown",
   "metadata": {},
   "source": [
    "We will now see how we can make use of the fact that we can talk to the instrumentserver from multiple processes. \n",
    "We'll create a virtual instrument (something with no direct counterpart on the hardware side) that allows us to manage arbitrary experiment parameters that we can access across the setup (a fancy way to keep track of important variables). After that, we'll set up some dummy instruments and perform some fake data acquisition with them."
   ]
  },
  {
   "cell_type": "markdown",
   "metadata": {},
   "source": [
    "## Parameter manager\n",
    "\n",
    "We'll first launch the *parameter manager*. Because it has a dedicated GUI we run it as a standalone program. \n",
    "From a command line prompt we can launch it separately (again, make sure to do this within an env't that has the instrumentserver package installed):\n",
    "\n",
    "```bash\n",
    "    $ instrumentserver-param-manager\n",
    "```\n",
    "\n",
    "We'll simply get an empty window now.\n",
    "The bottom of the window allows us to add arbitrary parameters and values, where dots serve as hierarchy separators (like objects and their children in python).\n",
    "Let's add a few parameters, let's say `qubit.frequency`, `qubit.pipulse.len`, `qubit.pipulse.amp` and give them some arbitrary values.\n",
    "We'll see something like this:\n",
    "\n",
    "![Parameter manager window](figures/parammgr.png)\n",
    "\n",
    "Because parameters live in the instrumentserver we can access the values here by creating a 'Proxy' instrument that forwards all requests to the 'real' instrument."
   ]
  },
  {
   "cell_type": "code",
   "execution_count": null,
   "metadata": {},
   "outputs": [],
   "source": [
    "params = cli.get_instrument('parameter_manager') # 'parameter-=_manager' is the name the startup script gives the instrument by default\n",
    "\n",
    "# simply output the value of the pi pulse length:\n",
    "params.qubit.pipulse.len()"
   ]
  },
  {
   "cell_type": "markdown",
   "metadata": {},
   "source": [
    "The different clients (such as the one in the notebook kernel and the one of the GUI) should stay in sync automatically.\n",
    "If we update a value from there, the GUI will display the change right away.\n",
    "In turn, calling a parameter get function should always return the most value the server has."
   ]
  },
  {
   "cell_type": "code",
   "execution_count": null,
   "metadata": {},
   "outputs": [],
   "source": [
    "# after executing, the change is immediately visible in the GUI.\n",
    "params.qubit.pipulse.len(100)"
   ]
  },
  {
   "cell_type": "code",
   "execution_count": null,
   "metadata": {},
   "outputs": [],
   "source": [
    "# if we change the value in the GUI, this will return the new value.\n",
    "params.qubit.pipulse.len()"
   ]
  },
  {
   "cell_type": "markdown",
   "metadata": {},
   "source": [
    "The same goes for adding new parameters after all clients are connected.\n",
    "We can add new parameters very easily from any client.\n",
    "The GUI should update automatically once we add something here."
   ]
  },
  {
   "cell_type": "code",
   "execution_count": null,
   "metadata": {},
   "outputs": [],
   "source": [
    "# this will only be available in the GUI after pressing the refresh button.\n",
    "params.add_parameter('qubit.anharmonicity', initial_value=-150.0, unit='MHz')"
   ]
  },
  {
   "cell_type": "markdown",
   "metadata": {},
   "source": [
    "If we add a parameter in the instrument GUI (let's say: `resonator.frequency`), we can immediately access it from within the notebook.\n",
    "Note, however, that autocomplete will not work right away (the client in the notebook needs to refresh, which only happens once we try to execute the command)."
   ]
  },
  {
   "cell_type": "code",
   "execution_count": null,
   "metadata": {},
   "outputs": [],
   "source": [
    "params.resonator.frequency()"
   ]
  },
  {
   "cell_type": "markdown",
   "metadata": {},
   "source": [
    "## Adding instruments to the server"
   ]
  },
  {
   "cell_type": "markdown",
   "metadata": {},
   "source": [
    "When using 'vanilla' qcodes, we would simply create a qcodes station in our working kernel, then add instruments by instantiating the corresponding driver classes.\n",
    "When using the instrumentserver to manage our instrument instances, we instead want to instantiate inside the station that the server runs.\n",
    "\n",
    "As an example, we will add a dummy instrument that behaves like a vector network analyzer and simulates a resonator response.\n",
    "Only the server will instantiate it, so instead of importing the driver, we pass the import path (of course, needs to be known in the environment that the server is running in)."
   ]
  },
  {
   "cell_type": "code",
   "execution_count": null,
   "metadata": {},
   "outputs": [],
   "source": [
    "vna = cli.create_instrument(\n",
    "    'instrumentserver.testing.dummy_instruments.rf.ResonatorResponse', # the path to the driver; must be importable for the server program.\n",
    "    'vna',  # this is the name of the instrument in the server station\n",
    "    f0=6.789e9,  # the resonance frequency of the mock resonator\n",
    "    df=10e6,  # the linewidth\n",
    ")"
   ]
  },
  {
   "cell_type": "code",
   "execution_count": null,
   "metadata": {},
   "outputs": [],
   "source": [
    "# setting some reasonable values\n",
    "vna.start_frequency(6.089e9)\n",
    "vna.stop_frequency(7.089e9)\n",
    "vna.npoints(1201)\n",
    "vna.bandwidth(1e4)\n",
    "vna.power(-50)"
   ]
  },
  {
   "cell_type": "markdown",
   "metadata": {},
   "source": [
    "## Using the parameter manager in measurements\n",
    "\n",
    "Refer to [measurement_notebook](https://github.com/toolsforexperiments/recipes/blob/master/dummy_measurement_without_server/measurement_notebook.ipynb) for a more in depth guide example of the measurement we are taking. \n",
    "\n",
    "The idea here is simple: by using parameters from the parameter manager we don't need to store configuration variables in measurement scripts, and can run functions using user-changeable parameters without having to pass variables. \n",
    "We illustrate this with an artificial, but also not too unrealistic dummy case: \n",
    "Assume we often want to sweep a flux (for instance for tuning a resonator) a small range around a given setpoint that can change.\n",
    "Not having to keep track of that setpoint throughout scripts can make life a bit easier (and will hopefully lead to fewer mistakes).\n",
    "\n",
    "First, lets instantiate the virtual flux controller, and define the measurement function:"
   ]
  },
  {
   "cell_type": "code",
   "execution_count": null,
   "metadata": {},
   "outputs": [],
   "source": [
    "fluxctrl = cli.create_instrument(\n",
    "    instrument_class='instrumentserver.testing.dummy_instruments.rf.FluxControl',\n",
    "    name='fluxctrl',\n",
    "    resonator_instrument='vna'\n",
    ")\n",
    "\n",
    "def sweep_flux(sweep_range=0.5, nsteps=51):\n",
    "    flux, frequency, s11 = [], [], []\n",
    "    \n",
    "    vna.resonator_linewidth(10e6)\n",
    "    vna.resonator_frequency(params.resonator.frequency() * 1e9)\n",
    "    f0 = params.resonator.flux()-sweep_range/2.\n",
    "    f1 = params.resonator.flux()+sweep_range/2.\n",
    "    for f in np.linspace(f0, f1, nsteps):\n",
    "        fluxctrl.flux(f)\n",
    "        flux.append(f)\n",
    "        frequency.append(vna.frequency())\n",
    "        s11.append(vna.data())\n",
    "\n",
    "    fig, ax = plt.subplots(1, 1, constrained_layout=True)\n",
    "    ax.imshow(np.angle(np.array(s11)), aspect='auto', origin='lower', \n",
    "              extent=[frequency[0].min(), frequency[0].max(), f0, f1])"
   ]
  },
  {
   "cell_type": "markdown",
   "metadata": {},
   "source": [
    "Let's add the parameter we want to control, ``resonator.flux``, via the GUI.\n",
    "After that we can measure by setting parameters in the GUI, rather than typing them explicitly."
   ]
  },
  {
   "cell_type": "code",
   "execution_count": null,
   "metadata": {},
   "outputs": [],
   "source": [
    "# change resonator frequency or flux in the gui, and re-run to see the change.\n",
    "sweep_flux()"
   ]
  },
  {
   "cell_type": "markdown",
   "metadata": {},
   "source": [
    "It is of course clear that in such a simple experiment the Parameter Manager GUI provides only a limited amount of benefit.\n",
    "However, once parameters are used across many different measurements, it can be very convenient to have it act as the central \"single source of truth\"."
   ]
  },
  {
   "cell_type": "markdown",
   "metadata": {},
   "source": [
    "## Saving and recalling the state of the setup"
   ]
  },
  {
   "cell_type": "markdown",
   "metadata": {},
   "source": [
    "Saving all current parameters in the instrumentserver to a file:"
   ]
  },
  {
   "cell_type": "code",
   "execution_count": null,
   "metadata": {},
   "outputs": [],
   "source": [
    "cli.paramsToFile('parameters.json')"
   ]
  },
  {
   "cell_type": "markdown",
   "metadata": {},
   "source": [
    "We can also save the state by pressing the `Save to file` button in the top left of server GUI. \n",
    "We can also utilize the `Save parameters to file` button from the parameter manager GUI to only save the parameters of the manager and not the entire state of the station.\n",
    "\n",
    "By default `paramsToFile` saves only the name and value of a parameter, but we can also save units, for example:"
   ]
  },
  {
   "cell_type": "code",
   "execution_count": null,
   "metadata": {},
   "outputs": [],
   "source": [
    "cli.paramsToFile('parameters-with-units.json', instrument='parameter_manager', attrs=['value', 'unit'])"
   ]
  },
  {
   "cell_type": "markdown",
   "metadata": {},
   "source": [
    "Loading works similar:"
   ]
  },
  {
   "cell_type": "code",
   "execution_count": null,
   "metadata": {},
   "outputs": [],
   "source": [
    "cli.paramsFromFile('parameters.json')"
   ]
  },
  {
   "cell_type": "markdown",
   "metadata": {},
   "source": [
    "We can save and recall also from the GUI.\n",
    "The instrumentserver GUI allows saving/loading the state of all instruments using a default file in the working directory (``parameters.json``).\n",
    "For more control we can use the API as shown above.\n",
    "\n",
    "In addition, the parameter manager GUI also allows saving/restoring all its parameters from the GUI. It saves to a separate file in the current working directory from where the parameter manager was launched (``parameter_manager-<name_of_instrument>.json``) and includes the units."
   ]
  },
  {
   "cell_type": "markdown",
   "metadata": {},
   "source": [
    "# Plottr: data management and inspection"
   ]
  },
  {
   "cell_type": "markdown",
   "metadata": {},
   "source": [
    "Work in progress :)\n",
    "\n",
    "\n",
    "For now, please check these resources:\n",
    "\n",
    "* [Simple Measurement example](https://github.com/toolsforexperiments/recipes/blob/master/dummy_measurement_without_server/measurement_notebook.ipynb) - \"dummy_measurement_without_server\" example notebook\n",
    "* [Using plottr with qcodes](https://qcodes.github.io/Qcodes/examples/plotting/How-to-use-Plottr-with-QCoDeS-for-live-plotting.html)"
   ]
  },
  {
   "cell_type": "markdown",
   "metadata": {},
   "source": [
    "# Labcore: tools for increasing efficiency\n",
    "\n",
    "Work in progress :)"
   ]
  },
  {
   "cell_type": "code",
   "execution_count": null,
   "metadata": {},
   "outputs": [],
   "source": []
  }
 ],
 "metadata": {
  "kernelspec": {
   "display_name": "Python [conda env:plottr-pyqt5]",
   "language": "python",
   "name": "conda-env-plottr-pyqt5-py"
  },
  "language_info": {
   "codemirror_mode": {
    "name": "ipython",
    "version": 3
   },
   "file_extension": ".py",
   "mimetype": "text/x-python",
   "name": "python",
   "nbconvert_exporter": "python",
   "pygments_lexer": "ipython3",
   "version": "3.9.2"
  },
  "toc-autonumbering": true
 },
 "nbformat": 4,
 "nbformat_minor": 4
}
